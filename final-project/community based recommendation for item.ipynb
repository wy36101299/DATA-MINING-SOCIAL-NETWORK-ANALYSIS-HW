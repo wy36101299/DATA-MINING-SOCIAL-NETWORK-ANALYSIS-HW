{
 "metadata": {
  "name": "",
  "signature": "sha256:e4001be92c93d1f988fe1dff2fd59f8e20a39cb6fd9c9c2b1ddd51a84495f4ff"
 },
 "nbformat": 3,
 "nbformat_minor": 0,
 "worksheets": [
  {
   "cells": [
    {
     "cell_type": "code",
     "collapsed": false,
     "input": [
      "# \u555f\u52d5\u4e92\u52d5\u5f0f\u7e6a\u5716\u74b0\u5883\n",
      "%pylab inline\n",
      "import matplotlib.pyplot as plt"
     ],
     "language": "python",
     "metadata": {},
     "outputs": [
      {
       "output_type": "stream",
       "stream": "stdout",
       "text": [
        "Populating the interactive namespace from numpy and matplotlib\n"
       ]
      }
     ],
     "prompt_number": 1
    },
    {
     "cell_type": "code",
     "collapsed": false,
     "input": [
      "# http://networkx.github.io/documentation/networkx-1.9.1/tutorial/index.html\n",
      "import networkx as nx\n",
      "import numpy as np\n",
      "import itertools\n",
      "# http://perso.crans.org/aynaud/communities/\n",
      "import community\n",
      "from random import randint"
     ],
     "language": "python",
     "metadata": {},
     "outputs": [],
     "prompt_number": 2
    },
    {
     "cell_type": "code",
     "collapsed": false,
     "input": [
      "def draw(G):\n",
      "    pos=nx.spring_layout(G) # positions for all nodes\n",
      "    # nodes\n",
      "    nx.draw_networkx_nodes(G,pos,\n",
      "                           G.nodes(),\n",
      "                           node_color='#99DDF0',\n",
      "                           node_size=500,\n",
      "                       alpha=0.8)\n",
      "    # edges\n",
      "    nx.draw_networkx_edges(G,pos,\n",
      "                           G.edges(),\n",
      "                           width=2.0,alpha=0.5,edge_color='#EE7D33')\n",
      "    nx.draw_networkx_labels(G,pos,font_size=16,font_color='black')"
     ],
     "language": "python",
     "metadata": {},
     "outputs": [],
     "prompt_number": 3
    },
    {
     "cell_type": "code",
     "collapsed": false,
     "input": [
      "G=nx.Graph()\n",
      "G.add_nodes_from(['0','1','2','3','4','5','6','7'])\n",
      "G.add_edges_from([('0','1'),('0','2'),('1','2'),('2','3'),('3','6'),('3','4'),('4','5'),('5','6'),('6','7'),('7','5'),('7','3')])\n",
      "print( G.nodes() )\n",
      "print( G.edges() )"
     ],
     "language": "python",
     "metadata": {},
     "outputs": [
      {
       "output_type": "stream",
       "stream": "stdout",
       "text": [
        "['1', '0', '3', '2', '5', '4', '7', '6']\n",
        "[('1', '0'), ('1', '2'), ('0', '2'), ('3', '2'), ('3', '4'), ('3', '7'), ('3', '6'), ('5', '4'), ('5', '7'), ('5', '6'), ('7', '6')]\n"
       ]
      }
     ],
     "prompt_number": 4
    },
    {
     "cell_type": "code",
     "collapsed": false,
     "input": [
      "draw(G)"
     ],
     "language": "python",
     "metadata": {},
     "outputs": [
      {
       "metadata": {},
       "output_type": "display_data",
       "png": "[encoded data removed]",
       "text": [
        "<matplotlib.figure.Figure at 0x103837710>"
       ]
      }
     ],
     "prompt_number": 5
    },
    {
     "cell_type": "code",
     "collapsed": false,
     "input": [
      "# \u5206\u7fa4\n",
      "partition = community.best_partition(G)\n",
      "print(partition)"
     ],
     "language": "python",
     "metadata": {},
     "outputs": [
      {
       "output_type": "stream",
       "stream": "stdout",
       "text": [
        "{'1': 0, '0': 0, '3': 1, '2': 0, '5': 1, '4': 1, '7': 1, '6': 1}\n"
       ]
      }
     ],
     "prompt_number": 6
    },
    {
     "cell_type": "code",
     "collapsed": false,
     "input": [
      "# Label Propagation community dection\n",
      "def findMaxNum(List):\n",
      "    a = {}\n",
      "    for tmp in List:\n",
      "        if a.has_key(tmp):\n",
      "            a[tmp]+=1\n",
      "        else:\n",
      "            a[tmp]=1\n",
      "    for key, value in a.iteritems():\n",
      "        if value == sorted(a.values(),reverse=True)[0]:\n",
      "            return key\n",
      "\n",
      "# \u521d\u59cb\u5316 label\n",
      "for node in G.nodes():\n",
      "    G.node[node]['id']= int(node)\n",
      "\n",
      "# \u5206\u914d\u6700\u9ad8\u7684label\n",
      "for time in range(20):\n",
      "    for node in G.nodes():\n",
      "        tmp = []\n",
      "        for neighborNode in G.neighbors(node):\n",
      "            tmp.append(G.node[neighborNode]['id'])\n",
      "        label = findMaxNum(tmp)\n",
      "        G.node[node]['id'] = label\n",
      "        \n",
      "for node in G.nodes():\n",
      "    print(node+':'+str(G.node[node]['id']))"
     ],
     "language": "python",
     "metadata": {},
     "outputs": [
      {
       "output_type": "stream",
       "stream": "stdout",
       "text": [
        "1:0\n",
        "0:0\n",
        "3:2\n",
        "2:0\n",
        "5:2\n",
        "4:2\n",
        "7:2\n",
        "6:2\n"
       ]
      }
     ],
     "prompt_number": 7
    },
    {
     "cell_type": "code",
     "collapsed": false,
     "input": [
      "clusters = {}\n",
      "for key, value in partition.iteritems():\n",
      "    if not clusters.has_key(value):\n",
      "        clusters[value] = [key]\n",
      "    else:\n",
      "        clusters[value].append(key)\n",
      "print(clusters)  \n",
      "\n",
      "subClustersList = []   \n",
      "for subKey in range(len(clusters.keys())):\n",
      "    subCluster = G.subgraph(clusters[subKey])\n",
      "    subClustersList.append(subCluster)\n",
      "print(subClustersList)"
     ],
     "language": "python",
     "metadata": {},
     "outputs": [
      {
       "output_type": "stream",
       "stream": "stdout",
       "text": [
        "{0: ['1', '0', '2'], 1: ['3', '5', '4', '7', '6']}\n",
        "[<networkx.classes.graph.Graph object at 0x107245890>, <networkx.classes.graph.Graph object at 0x107164bd0>]\n"
       ]
      }
     ],
     "prompt_number": 8
    },
    {
     "cell_type": "code",
     "collapsed": false,
     "input": [
      "# simrank\n",
      "def simrank(G, r=0.9, max_iter=100, eps=1e-4):\n",
      "    nodes = G.nodes()\n",
      "    nodes_i = {k: v for(k, v) in [(nodes[i], i) for i in range(0, len(nodes))]}\n",
      "    sim_prev = np.zeros(len(nodes))\n",
      "    sim = np.identity(len(nodes))\n",
      "    for i in range(max_iter):\n",
      "        if np.allclose(sim, sim_prev, atol=eps):\n",
      "            break\n",
      "        sim_prev = np.copy(sim)\n",
      "        for u, v in itertools.product(nodes, nodes):\n",
      "            if u is v:\n",
      "                continue\n",
      "            u_ns, v_ns = G.neighbors(u), G.neighbors(v)\n",
      "            s_uv = sum([sim_prev[nodes_i[u_n]][nodes_i[v_n]] for u_n, v_n in itertools.product(u_ns, v_ns)])\n",
      "            sim[nodes_i[u]][nodes_i[v]] = (r * s_uv) / (len(u_ns) * len(v_ns))\n",
      "    return sim"
     ],
     "language": "python",
     "metadata": {},
     "outputs": [],
     "prompt_number": 9
    },
    {
     "cell_type": "code",
     "collapsed": false,
     "input": [
      "# Cosine Similarity \n",
      "def cosSim(a,b):\n",
      "    cos = float(np.inner(a,b))/(np.linalg.norm(a)*np.linalg.norm(b))\n",
      "    norCos = 0.5+0.5*cos\n",
      "    return norCos"
     ],
     "language": "python",
     "metadata": {},
     "outputs": [],
     "prompt_number": 10
    },
    {
     "cell_type": "code",
     "collapsed": false,
     "input": [
      "draw(subClustersList[0])"
     ],
     "language": "python",
     "metadata": {},
     "outputs": [
      {
       "metadata": {},
       "output_type": "display_data",
       "png": "[encoded data removed]",
       "text": [
        "<matplotlib.figure.Figure at 0x107227cd0>"
       ]
      }
     ],
     "prompt_number": 11
    },
    {
     "cell_type": "code",
     "collapsed": false,
     "input": [
      "draw(subClustersList[1])"
     ],
     "language": "python",
     "metadata": {},
     "outputs": [
      {
       "metadata": {},
       "output_type": "display_data",
       "png": "[encoded data removed]",
       "text": [
        "<matplotlib.figure.Figure at 0x107245fd0>"
       ]
      }
     ],
     "prompt_number": 12
    },
    {
     "cell_type": "code",
     "collapsed": false,
     "input": [
      "# \u5404\u81eacluster \u7b97\u51fa Similarity \u5b58\u5165 subSimilaritys\n",
      "subSimilaritys = []   \n",
      "for num in range(len(subClustersList)):\n",
      "    subSimilaritys.append(simrank(subClustersList[num]))\n",
      "print(subSimilaritys)"
     ],
     "language": "python",
     "metadata": {},
     "outputs": [
      {
       "output_type": "stream",
       "stream": "stdout",
       "text": [
        "[array([[ 1.        ,  0.69212752,  0.69212752],\n",
        "       [ 0.69212752,  1.        ,  0.69212752],\n",
        "       [ 0.69212752,  0.69212752,  1.        ]]), array([[ 1.        ,  0.68858127,  0.45517566,  0.5311563 ,  0.5311563 ],\n",
        "       [ 0.68858127,  1.        ,  0.45517566,  0.5311563 ,  0.5311563 ],\n",
        "       [ 0.45517566,  0.45517566,  1.        ,  0.66588905,  0.66588905],\n",
        "       [ 0.5311563 ,  0.5311563 ,  0.66588905,  1.        ,  0.61126386],\n",
        "       [ 0.5311563 ,  0.5311563 ,  0.66588905,  0.61126386,  1.        ]])]\n"
       ]
      }
     ],
     "prompt_number": 13
    },
    {
     "cell_type": "code",
     "collapsed": false,
     "input": [
      "# \u5c0d\u8a72\u7269\u54c1\u7b97\u7e3dSimilarity  user Similarity(cosine) * clusterSimilarity \n",
      "# clusterSimilarity :   \u540ccluster---user Similarity(simrank)\n",
      "#                     \u4e0d\u540ccluster---0.1\n",
      "def userSimRec(itemScore, user, simMethods, item):\n",
      "    # user number : shape(itemScore)[0] item number : shape(itemScore)[1]\n",
      "    n = np.shape(itemScore)[0]\n",
      "    simTotal = 0.0; ratSimTotal = 0.0\n",
      "    for cluster, clusterList in clusters.iteritems():\n",
      "        if str(user) in clusterList:\n",
      "            clusterUseris = cluster\n",
      "            userc = clusterList.index(str(user))\n",
      "#             print(str(user)+':'+str(clusterUseris))\n",
      "#             print('@@')\n",
      "            break\n",
      "    for u in range(n):\n",
      "        userItemRating = itemScore[u][item]\n",
      "        # pass norating item\n",
      "        if userItemRating == 0 or u == user:\n",
      "            pass\n",
      "        else:\n",
      "            # find same rating item\n",
      "            boolArray = np.logical_and(itemScore[user][:]> 0,itemScore[u][:] > 0)\n",
      "            boolArray[item] = False\n",
      "            if len( np.nonzero(boolArray)[0] ) == 0: \n",
      "                similarity = 0\n",
      "            else: \n",
      "                userSim = simMethods(itemScore[user][boolArray],itemScore[u][boolArray])\n",
      "#                 print(itemScore[user][boolArray])\n",
      "#                 print(itemScore[u][boolArray])\n",
      "                for cluster, clusterList in clusters.iteritems():\n",
      "                    if str(u) in clusterList:\n",
      "                        clusterUis = cluster\n",
      "#                         print(str(u)+':'+str(clusterUis))\n",
      "                        uc = clusterList.index(str(u))\n",
      "                if clusterUseris == clusterUis:\n",
      "                    clusterSim = subSimilaritys[clusterUseris][userc][uc]\n",
      "                else:\n",
      "                    clusterSim = 0.1\n",
      "#                 print(clusterSim)\n",
      "            simTotal += userSim * clusterSim\n",
      "            ratSimTotal += userSim * clusterSim * userItemRating\n",
      "    if simTotal == 0: \n",
      "        return 0\n",
      "    else: \n",
      "        return ratSimTotal/simTotal"
     ],
     "language": "python",
     "metadata": {},
     "outputs": [],
     "prompt_number": 14
    },
    {
     "cell_type": "code",
     "collapsed": false,
     "input": [
      "# \u5c0d\u8a72user\u6c92\u8a55\u5206\u7684\u7269\u54c1\u505a\u63a8\u85a6 N\u70ba\u5217\u51fa\u7684item\u6578\n",
      "def recommend(itemScore, user, N=3, simMethods=cosSim):\n",
      "    #find unrated items \n",
      "    unratedItems = np.nonzero(itemScore[user,:] ==0)[0]\n",
      "    if len(unratedItems) == 0: \n",
      "        return 'you rated everything'\n",
      "    else:\n",
      "        itemScores = []\n",
      "        for item in unratedItems:\n",
      "            estimatedScore = userSimRec(itemScore, user, simMethods, item)\n",
      "            itemScores.append((item, estimatedScore))\n",
      "            recItem = sorted(itemScores, key=lambda x: x[1], reverse=True)[:N]\n",
      "        return recItem"
     ],
     "language": "python",
     "metadata": {},
     "outputs": [],
     "prompt_number": 15
    },
    {
     "cell_type": "code",
     "collapsed": false,
     "input": [
      "def loadItemScore():\n",
      "    tmp = [[4, 4, 0, 2, 2],\n",
      "           [4, 0, 2, 0, 3],\n",
      "           [4, 0, 0, 1, 1],\n",
      "           [1, 1, 1, 2, 0],\n",
      "           [2, 2, 4, 0, 0],\n",
      "           [5, 0, 5, 0, 2],\n",
      "           [1, 1, 1, 3, 0],\n",
      "           [0, 1, 3, 0, 1]]\n",
      "    itemScore = np.array(tmp,dtype=np.float)\n",
      "    return itemScore"
     ],
     "language": "python",
     "metadata": {},
     "outputs": [],
     "prompt_number": 16
    },
    {
     "cell_type": "code",
     "collapsed": false,
     "input": [
      "dataSet1 = loadItemScore()"
     ],
     "language": "python",
     "metadata": {},
     "outputs": [],
     "prompt_number": 17
    },
    {
     "cell_type": "code",
     "collapsed": false,
     "input": [
      "recommend(dataSet1, 7, N=3)"
     ],
     "language": "python",
     "metadata": {},
     "outputs": [
      {
       "metadata": {},
       "output_type": "pyout",
       "prompt_number": 18,
       "text": [
        "[(0, 2.4229790582187611), (3, 2.3743483336808979)]"
       ]
      }
     ],
     "prompt_number": 18
    },
    {
     "cell_type": "code",
     "collapsed": false,
     "input": [
      "def loadItemScore2(userN,itemN):\n",
      "    tmp2Darray = []\n",
      "    for user in range(userN):\n",
      "        tmpList = []\n",
      "        for num in range(itemN):\n",
      "            # \u66f4\u6539 no rating\u7684\u6bd4\u4f8b \u9810\u8a2d20%\u70ba0\n",
      "            if randint(1,5) <= 1:\n",
      "                tmpList.append(0)\n",
      "            else:\n",
      "                tmpList.append(randint(1,5))\n",
      "        tmp2Darray.append(tmpList)\n",
      "    itemScore = np.array(tmp2Darray,dtype=np.float)\n",
      "    return itemScore"
     ],
     "language": "python",
     "metadata": {},
     "outputs": [],
     "prompt_number": 19
    },
    {
     "cell_type": "code",
     "collapsed": false,
     "input": [
      "dataSet2 = loadItemScore2(8,100)"
     ],
     "language": "python",
     "metadata": {},
     "outputs": [],
     "prompt_number": 20
    },
    {
     "cell_type": "code",
     "collapsed": false,
     "input": [
      "recommend(dataSet2, 7, N=10)"
     ],
     "language": "python",
     "metadata": {},
     "outputs": [
      {
       "metadata": {},
       "output_type": "pyout",
       "prompt_number": 21,
       "text": [
        "[(81, 4.7656170512990883),\n",
        " (46, 4.4061991053351299),\n",
        " (60, 4.2508774356925176),\n",
        " (48, 4.1406789081024886),\n",
        " (36, 3.822124245548546),\n",
        " (53, 3.5959891764594061),\n",
        " (74, 3.5845189127815424),\n",
        " (41, 3.4134632401656622),\n",
        " (78, 3.3298398714059525),\n",
        " (34, 3.1505192527978605)]"
       ]
      }
     ],
     "prompt_number": 21
    },
    {
     "cell_type": "code",
     "collapsed": false,
     "input": [
      "# load real dataSet\n",
      "# https://snap.stanford.edu/data/\n",
      "edges=[]\n",
      "nodes=[]\n",
      "with open ('/Users/wy/Desktop/DMfinalproject/facebook_combined.txt','r') as f:\n",
      "    lines = f.readlines()\n",
      "    for line in lines:\n",
      "        line = line.strip()   \n",
      "        line = line.split(' ')\n",
      "        edges.append((line[0],line[1]))\n",
      "        nodes.append(line[0])\n",
      "        nodes.append(line[1])\n",
      "nodes = set(nodes)"
     ],
     "language": "python",
     "metadata": {},
     "outputs": [],
     "prompt_number": 22
    },
    {
     "cell_type": "code",
     "collapsed": false,
     "input": [
      "G=nx.Graph()\n",
      "G.add_nodes_from(nodes)\n",
      "G.add_edges_from(edges)\n",
      "print(len(G.nodes()))\n",
      "print(len(G.edges()))"
     ],
     "language": "python",
     "metadata": {},
     "outputs": [
      {
       "output_type": "stream",
       "stream": "stdout",
       "text": [
        "4039\n",
        "88234"
       ]
      },
      {
       "output_type": "stream",
       "stream": "stdout",
       "text": [
        "\n"
       ]
      }
     ],
     "prompt_number": 23
    },
    {
     "cell_type": "code",
     "collapsed": false,
     "input": [
      "# \u5206\u7fa4\n",
      "partition = community.best_partition(G)"
     ],
     "language": "python",
     "metadata": {},
     "outputs": [],
     "prompt_number": 24
    },
    {
     "cell_type": "code",
     "collapsed": false,
     "input": [
      "clusters = {}\n",
      "for key, value in partition.iteritems():\n",
      "    if not clusters.has_key(value):\n",
      "        clusters[value] = [key]\n",
      "    else:\n",
      "        clusters[value].append(key)\n",
      "        \n",
      "subClustersList = []   \n",
      "for subKey in range(len(clusters.keys())):\n",
      "    subCluster = G.subgraph(clusters[subKey])\n",
      "    subClustersList.append(subCluster)"
     ],
     "language": "python",
     "metadata": {},
     "outputs": [],
     "prompt_number": 25
    },
    {
     "cell_type": "code",
     "collapsed": false,
     "input": [
      "# \u7a0d\u5fae\u770b\u4e00\u4e0b cluster \u5206\u914d\u7684 user\u6578\n",
      "for key, value in clusters.iteritems():\n",
      "    print(str(key)+':'+str(len(value)))"
     ],
     "language": "python",
     "metadata": {},
     "outputs": [
      {
       "output_type": "stream",
       "stream": "stdout",
       "text": [
        "0:548\n",
        "1:60\n",
        "2:514\n",
        "3:60\n",
        "4:206\n",
        "5:341\n",
        "6:310\n",
        "7:391\n",
        "8:423\n",
        "9:237\n",
        "10:549\n",
        "11:73\n",
        "12:19\n",
        "13:226\n",
        "14:38\n",
        "15:25\n",
        "16:19\n"
       ]
      }
     ],
     "prompt_number": 26
    },
    {
     "cell_type": "code",
     "collapsed": false,
     "input": [
      "fbDataSet = loadItemScore2(4039,100)"
     ],
     "language": "python",
     "metadata": {},
     "outputs": [],
     "prompt_number": 27
    },
    {
     "cell_type": "code",
     "collapsed": false,
     "input": [
      "# # \u5404\u81eacluster \u7b97\u51fa Similarity \u5b58\u5165 subSimilaritys\n",
      "# subSimilaritys = []   \n",
      "# for num in range(len(subClustersList)):\n",
      "#     subSimilaritys.append(simrank(subClustersList[num]))"
     ],
     "language": "python",
     "metadata": {},
     "outputs": [],
     "prompt_number": 28
    },
    {
     "cell_type": "code",
     "collapsed": false,
     "input": [
      "# recommend(fbDataSet, 7, N=10)"
     ],
     "language": "python",
     "metadata": {},
     "outputs": []
    },
    {
     "cell_type": "code",
     "collapsed": false,
     "input": [
      "subClustersList[16]"
     ],
     "language": "python",
     "metadata": {},
     "outputs": [
      {
       "metadata": {},
       "output_type": "pyout",
       "prompt_number": 29,
       "text": [
        "<networkx.classes.graph.Graph at 0x1075f6d90>"
       ]
      }
     ],
     "prompt_number": 29
    },
    {
     "cell_type": "code",
     "collapsed": false,
     "input": [
      "t16 = simrank(subClustersList[16])"
     ],
     "language": "python",
     "metadata": {},
     "outputs": [],
     "prompt_number": 30
    },
    {
     "cell_type": "code",
     "collapsed": false,
     "input": [
      "t16"
     ],
     "language": "python",
     "metadata": {},
     "outputs": [
      {
       "metadata": {},
       "output_type": "pyout",
       "prompt_number": 31,
       "text": [
        "array([[ 1.        ,  0.32897803,  0.33000178,  0.33225113,  0.3324419 ,\n",
        "         0.33003236,  0.33438137,  0.33073958,  0.33240041,  0.32897803,\n",
        "         0.33041509,  0.33073958,  0.33177311,  0.33266439,  0.33092773,\n",
        "         0.33449029,  0.33008598,  0.32994964,  0.33032668],\n",
        "       [ 0.32897803,  1.        ,  0.32881972,  0.32856068,  0.32874875,\n",
        "         0.32893059,  0.32338066,  0.32928397,  0.32869244,  0.32951858,\n",
        "         0.32907346,  0.32928397,  0.32814761,  0.32897803,  0.32731757,\n",
        "         0.3254786 ,  0.32895223,  0.32878814,  0.32901184],\n",
        "       [ 0.33000178,  0.32881972,  1.        ,  0.33171373,  0.33210082,\n",
        "         0.32955645,  0.33684975,  0.33057384,  0.33206242,  0.32881972,\n",
        "         0.33007567,  0.33057384,  0.3341124 ,  0.33000178,  0.33324133,\n",
        "         0.33112666,  0.33223315,  0.33210971,  0.33000807],\n",
        "       [ 0.33225113,  0.32856068,  0.33171373,  1.        ,  0.33161007,\n",
        "         0.3288134 ,  0.33980227,  0.33034066,  0.33451469,  0.32856068,\n",
        "         0.33508723,  0.33034066,  0.32938467,  0.33225113,  0.3358298 ,\n",
        "         0.33364057,  0.33179881,  0.33162288,  0.33226072],\n",
        "       [ 0.3324419 ,  0.32874875,  0.33210082,  0.33161007,  1.        ,\n",
        "         0.33218785,  0.33679702,  0.33049108,  0.33198206,  0.32874875,\n",
        "         0.32997857,  0.33049108,  0.33746399,  0.3324419 ,  0.32907782,\n",
        "         0.33699808,  0.32948909,  0.33209929,  0.32994047],\n",
        "       [ 0.33003236,  0.32893059,  0.32955645,  0.3288134 ,  0.33218785,\n",
        "         1.        ,  0.32853895,  0.32825153,  0.32941304,  0.32893059,\n",
        "         0.32754759,  0.32825153,  0.33424239,  0.33003236,  0.32919089,\n",
        "         0.33130611,  0.33235288,  0.332286  ,  0.33012133],\n",
        "       [ 0.33438137,  0.32338066,  0.33684975,  0.33980227,  0.33679702,\n",
        "         0.32853895,  1.        ,  0.33226996,  0.33681976,  0.32338066,\n",
        "         0.33450709,  0.33226996,  0.32663362,  0.33438137,  0.33260775,\n",
        "         0.3306033 ,  0.32883872,  0.32848896,  0.32657296],\n",
        "       [ 0.33073958,  0.32928397,  0.33057384,  0.33034066,  0.33049108,\n",
        "         0.32825153,  0.33226996,  1.        ,  0.33045273,  0.32928397,\n",
        "         0.33087214,  0.33105738,  0.32984096,  0.33073958,  0.32902015,\n",
        "         0.32709562,  0.33068413,  0.32811374,  0.32850968],\n",
        "       [ 0.33240041,  0.32869244,  0.33206242,  0.33451469,  0.33198206,\n",
        "         0.32941304,  0.33681976,  0.33045273,  1.        ,  0.32869244,\n",
        "         0.32998502,  0.33045273,  0.3306077 ,  0.33240041,  0.33725034,\n",
        "         0.3369711 ,  0.33214321,  0.33203597,  0.33244809],\n",
        "       [ 0.32897803,  0.32951858,  0.32881972,  0.32856068,  0.32874875,\n",
        "         0.32893059,  0.32338066,  0.32928397,  0.32869244,  1.        ,\n",
        "         0.32907346,  0.32928397,  0.32814761,  0.32897803,  0.32731757,\n",
        "         0.3254786 ,  0.32895223,  0.32878814,  0.32901184],\n",
        "       [ 0.33041509,  0.32907346,  0.33007567,  0.33508723,  0.32997857,\n",
        "         0.32754759,  0.33450709,  0.33087214,  0.32998502,  0.32907346,\n",
        "         1.        ,  0.33087214,  0.32863639,  0.33041509,  0.33100662,\n",
        "         0.328943  ,  0.33019294,  0.32743624,  0.32803046],\n",
        "       [ 0.33073958,  0.32928397,  0.33057384,  0.33034066,  0.33049108,\n",
        "         0.32825153,  0.33226996,  0.33105738,  0.33045273,  0.32928397,\n",
        "         0.33087214,  1.        ,  0.32984096,  0.33073958,  0.32902015,\n",
        "         0.32709562,  0.33068413,  0.32811374,  0.32850968],\n",
        "       [ 0.33177311,  0.32814761,  0.3341124 ,  0.32938467,  0.33746399,\n",
        "         0.33424239,  0.32663362,  0.32984096,  0.3306077 ,  0.32814761,\n",
        "         0.32863639,  0.32984096,  1.        ,  0.33177311,  0.33207137,\n",
        "         0.33996907,  0.33080663,  0.33415227,  0.32866746],\n",
        "       [ 0.33266439,  0.32897803,  0.33000178,  0.33225113,  0.3324419 ,\n",
        "         0.33003236,  0.33438137,  0.33073958,  0.33240041,  0.32897803,\n",
        "         0.33041509,  0.33073958,  0.33177311,  1.        ,  0.33092773,\n",
        "         0.33449029,  0.33008598,  0.32994964,  0.33032668],\n",
        "       [ 0.33092773,  0.32731757,  0.33324133,  0.3358298 ,  0.32907782,\n",
        "         0.32919089,  0.33260775,  0.32902015,  0.33725034,  0.32731757,\n",
        "         0.33100662,  0.32902015,  0.33207137,  0.33092773,  1.        ,\n",
        "         0.33982693,  0.3333242 ,  0.33324226,  0.33483746],\n",
        "       [ 0.33449029,  0.3254786 ,  0.33112666,  0.33364057,  0.33699808,\n",
        "         0.33130611,  0.3306033 ,  0.32709562,  0.3369711 ,  0.3254786 ,\n",
        "         0.328943  ,  0.32709562,  0.33996907,  0.33449029,  0.33982693,\n",
        "         1.        ,  0.33117046,  0.33707029,  0.33455449],\n",
        "       [ 0.33008598,  0.32895223,  0.33223315,  0.33179881,  0.32948909,\n",
        "         0.33235288,  0.32883872,  0.33068413,  0.33214321,  0.32895223,\n",
        "         0.33019294,  0.33068413,  0.33080663,  0.33008598,  0.3333242 ,\n",
        "         0.33117046,  1.        ,  0.32952496,  0.33011674],\n",
        "       [ 0.32994964,  0.32878814,  0.33210971,  0.33162288,  0.33209929,\n",
        "         0.332286  ,  0.32848896,  0.32811374,  0.33203597,  0.32878814,\n",
        "         0.32743624,  0.32811374,  0.33415227,  0.32994964,  0.33324226,\n",
        "         0.33707029,  0.32952496,  1.        ,  0.33256425],\n",
        "       [ 0.33032668,  0.32901184,  0.33000807,  0.33226072,  0.32994047,\n",
        "         0.33012133,  0.32657296,  0.32850968,  0.33244809,  0.32901184,\n",
        "         0.32803046,  0.32850968,  0.32866746,  0.33032668,  0.33483746,\n",
        "         0.33455449,  0.33011674,  0.33256425,  1.        ]])"
       ]
      }
     ],
     "prompt_number": 31
    },
    {
     "cell_type": "code",
     "collapsed": false,
     "input": [],
     "language": "python",
     "metadata": {},
     "outputs": []
    }
   ],
   "metadata": {}
  }
 ]
}