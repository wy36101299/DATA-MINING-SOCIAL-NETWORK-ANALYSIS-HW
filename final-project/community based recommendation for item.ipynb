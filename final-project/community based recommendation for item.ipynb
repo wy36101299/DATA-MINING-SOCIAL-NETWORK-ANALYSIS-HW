{
 "metadata": {
  "name": "",
  "signature": "sha256:f01dd52c185950c8b4d722cbb196be6d4869f5c0350b378b4182c8463619bb59"
 },
 "nbformat": 3,
 "nbformat_minor": 0,
 "worksheets": [
  {
   "cells": [
    {
     "cell_type": "code",
     "collapsed": false,
     "input": [
      "# \u555f\u52d5\u4e92\u52d5\u5f0f\u7e6a\u5716\u74b0\u5883\n",
      "%pylab inline\n",
      "import matplotlib.pyplot as plt"
     ],
     "language": "python",
     "metadata": {},
     "outputs": [
      {
       "output_type": "stream",
       "stream": "stdout",
       "text": [
        "Populating the interactive namespace from numpy and matplotlib\n"
       ]
      }
     ],
     "prompt_number": 1
    },
    {
     "cell_type": "code",
     "collapsed": false,
     "input": [
      "# http://networkx.github.io/documentation/networkx-1.9.1/tutorial/index.html\n",
      "import networkx as nx\n",
      "import numpy as np\n",
      "import itertools\n",
      "# http://perso.crans.org/aynaud/communities/\n",
      "import community\n",
      "from random import randint"
     ],
     "language": "python",
     "metadata": {},
     "outputs": [],
     "prompt_number": 2
    },
    {
     "cell_type": "code",
     "collapsed": false,
     "input": [
      "def draw(G):\n",
      "    pos=nx.spring_layout(G) # positions for all nodes\n",
      "    # nodes\n",
      "    nx.draw_networkx_nodes(G,pos,\n",
      "                           G.nodes(),\n",
      "                           node_color='#99DDF0',\n",
      "                           node_size=500,\n",
      "                       alpha=0.8)\n",
      "    # edges\n",
      "    nx.draw_networkx_edges(G,pos,\n",
      "                           G.edges(),\n",
      "                           width=2.0,alpha=0.5,edge_color='#EE7D33')\n",
      "    nx.draw_networkx_labels(G,pos,font_size=16,font_color='black')"
     ],
     "language": "python",
     "metadata": {},
     "outputs": [],
     "prompt_number": 3
    },
    {
     "cell_type": "code",
     "collapsed": false,
     "input": [
      "G=nx.Graph()\n",
      "G.add_nodes_from(['0','1','2','3','4','5','6','7'])\n",
      "G.add_edges_from([('0','1'),('0','2'),('1','2'),('2','3'),('3','6'),('3','4'),('4','5'),('5','6'),('6','7'),('7','5'),('7','3')])\n",
      "print( G.nodes() )\n",
      "print( G.edges() )"
     ],
     "language": "python",
     "metadata": {},
     "outputs": [
      {
       "output_type": "stream",
       "stream": "stdout",
       "text": [
        "['1', '0', '3', '2', '5', '4', '7', '6']\n",
        "[('1', '0'), ('1', '2'), ('0', '2'), ('3', '2'), ('3', '4'), ('3', '7'), ('3', '6'), ('5', '4'), ('5', '7'), ('5', '6'), ('7', '6')]\n"
       ]
      }
     ],
     "prompt_number": 4
    },
    {
     "cell_type": "code",
     "collapsed": false,
     "input": [
      "draw(G)"
     ],
     "language": "python",
     "metadata": {},
     "outputs": [
      {
       "metadata": {},
       "output_type": "display_data",
       "png": "[encoded data removed]",
       "text": [
        "<matplotlib.figure.Figure at 0x106fdd890>"
       ]
      }
     ],
     "prompt_number": 5
    },
    {
     "cell_type": "code",
     "collapsed": false,
     "input": [
      "# \u5206\u7fa4\n",
      "partition = community.best_partition(G)\n",
      "print(partition)"
     ],
     "language": "python",
     "metadata": {},
     "outputs": [
      {
       "output_type": "stream",
       "stream": "stdout",
       "text": [
        "{'1': 0, '0': 0, '3': 1, '2': 0, '5': 1, '4': 1, '7': 1, '6': 1}\n"
       ]
      }
     ],
     "prompt_number": 6
    },
    {
     "cell_type": "code",
     "collapsed": false,
     "input": [
      "clusters = {}\n",
      "for key, value in partition.iteritems():\n",
      "    if not clusters.has_key(value):\n",
      "        clusters[value] = [key]\n",
      "    else:\n",
      "        clusters[value].append(key)\n",
      "print(clusters)  \n",
      "\n",
      "subClustersList = []   \n",
      "for subKey in range(len(clusters.keys())):\n",
      "    subCluster = G.subgraph(clusters[subKey])\n",
      "    subClustersList.append(subCluster)\n",
      "print(subClustersList)"
     ],
     "language": "python",
     "metadata": {},
     "outputs": [
      {
       "output_type": "stream",
       "stream": "stdout",
       "text": [
        "{0: ['1', '0', '2'], 1: ['3', '5', '4', '7', '6']}\n",
        "[<networkx.classes.graph.Graph object at 0x10721d990>, <networkx.classes.graph.Graph object at 0x10703c590>]\n"
       ]
      }
     ],
     "prompt_number": 7
    },
    {
     "cell_type": "code",
     "collapsed": false,
     "input": [
      "# simrank\n",
      "def simrank(G, r=0.9, max_iter=100, eps=1e-4):\n",
      "    nodes = G.nodes()\n",
      "    nodes_i = {k: v for(k, v) in [(nodes[i], i) for i in range(0, len(nodes))]}\n",
      "    sim_prev = np.zeros(len(nodes))\n",
      "    sim = np.identity(len(nodes))\n",
      "    for i in range(max_iter):\n",
      "        if np.allclose(sim, sim_prev, atol=eps):\n",
      "            break\n",
      "        sim_prev = np.copy(sim)\n",
      "        for u, v in itertools.product(nodes, nodes):\n",
      "            if u is v:\n",
      "                continue\n",
      "            u_ns, v_ns = G.neighbors(u), G.neighbors(v)\n",
      "            s_uv = sum([sim_prev[nodes_i[u_n]][nodes_i[v_n]] for u_n, v_n in itertools.product(u_ns, v_ns)])\n",
      "            sim[nodes_i[u]][nodes_i[v]] = (r * s_uv) / (len(u_ns) * len(v_ns))\n",
      "    return sim"
     ],
     "language": "python",
     "metadata": {},
     "outputs": [],
     "prompt_number": 8
    },
    {
     "cell_type": "code",
     "collapsed": false,
     "input": [
      "# Cosine Similarity \n",
      "def cosSim(a,b):\n",
      "    cos = float(np.inner(a,b))/(np.linalg.norm(a)*np.linalg.norm(b))\n",
      "    norCos = 0.5+0.5*cos\n",
      "    return norCos"
     ],
     "language": "python",
     "metadata": {},
     "outputs": [],
     "prompt_number": 9
    },
    {
     "cell_type": "code",
     "collapsed": false,
     "input": [
      "draw(subClustersList[0])"
     ],
     "language": "python",
     "metadata": {},
     "outputs": [
      {
       "metadata": {},
       "output_type": "display_data",
       "png": "[encoded data removed]",
       "text": [
        "<matplotlib.figure.Figure at 0x1070f6b10>"
       ]
      }
     ],
     "prompt_number": 10
    },
    {
     "cell_type": "code",
     "collapsed": false,
     "input": [
      "draw(subClustersList[1])"
     ],
     "language": "python",
     "metadata": {},
     "outputs": [
      {
       "metadata": {},
       "output_type": "display_data",
       "png": "[encoded data removed]",
       "text": [
        "<matplotlib.figure.Figure at 0x1072137d0>"
       ]
      }
     ],
     "prompt_number": 11
    },
    {
     "cell_type": "code",
     "collapsed": false,
     "input": [
      "# \u5404\u81eacluster \u7b97\u51fa Similarity \u5b58\u5165 subSimilaritys\n",
      "subSimilaritys = []   \n",
      "for num in range(len(subClustersList)):\n",
      "    subSimilaritys.append(simrank(subClustersList[num]))\n",
      "print(subSimilaritys)"
     ],
     "language": "python",
     "metadata": {},
     "outputs": [
      {
       "output_type": "stream",
       "stream": "stdout",
       "text": [
        "[array([[ 1.        ,  0.69212752,  0.69212752],\n",
        "       [ 0.69212752,  1.        ,  0.69212752],\n",
        "       [ 0.69212752,  0.69212752,  1.        ]]), array([[ 1.        ,  0.68858127,  0.45517566,  0.5311563 ,  0.5311563 ],\n",
        "       [ 0.68858127,  1.        ,  0.45517566,  0.5311563 ,  0.5311563 ],\n",
        "       [ 0.45517566,  0.45517566,  1.        ,  0.66588905,  0.66588905],\n",
        "       [ 0.5311563 ,  0.5311563 ,  0.66588905,  1.        ,  0.61126386],\n",
        "       [ 0.5311563 ,  0.5311563 ,  0.66588905,  0.61126386,  1.        ]])]\n"
       ]
      }
     ],
     "prompt_number": 12
    },
    {
     "cell_type": "code",
     "collapsed": false,
     "input": [
      "# \u5c0d\u8a72\u7269\u54c1\u7b97\u7e3dSimilarity  user Similarity(cosine) * clusterSimilarity \n",
      "# clusterSimilarity :   \u540ccluster---user Similarity(simrank)\n",
      "#                     \u4e0d\u540ccluster---0.1\n",
      "def userSimRec(itemScore, user, simMethods, item):\n",
      "    # user number : shape(itemScore)[0] item number : shape(itemScore)[1]\n",
      "    n = np.shape(itemScore)[0]\n",
      "    simTotal = 0.0; ratSimTotal = 0.0\n",
      "    for cluster, clusterList in clusters.iteritems():\n",
      "        if str(user) in clusterList:\n",
      "            clusterUseris = cluster\n",
      "            userc = clusterList.index(str(user))\n",
      "#             print(str(user)+':'+str(clusterUseris))\n",
      "#             print('@@')\n",
      "            break\n",
      "    for u in range(n):\n",
      "        userItemRating = itemScore[u][item]\n",
      "        # pass norating item\n",
      "        if userItemRating == 0 or u == user:\n",
      "            pass\n",
      "        else:\n",
      "            # find same rating item\n",
      "            boolArray = np.logical_and(itemScore[user][:]> 0,itemScore[u][:] > 0)\n",
      "            boolArray[item] = False\n",
      "            if len( np.nonzero(boolArray)[0] ) == 0: \n",
      "                similarity = 0\n",
      "            else: \n",
      "                userSim = simMethods(itemScore[user][boolArray],itemScore[u][boolArray])\n",
      "#                 print(itemScore[user][boolArray])\n",
      "#                 print(itemScore[u][boolArray])\n",
      "                for cluster, clusterList in clusters.iteritems():\n",
      "                    if str(u) in clusterList:\n",
      "                        clusterUis = cluster\n",
      "#                         print(str(u)+':'+str(clusterUis))\n",
      "                        uc = clusterList.index(str(u))\n",
      "                if clusterUseris == clusterUis:\n",
      "                    clusterSim = subSimilaritys[clusterUseris][userc][uc]\n",
      "                else:\n",
      "                    clusterSim = 0.1\n",
      "#                 print(clusterSim)\n",
      "            simTotal += userSim * clusterSim\n",
      "            ratSimTotal += userSim * clusterSim * userItemRating\n",
      "    if simTotal == 0: \n",
      "        return 0\n",
      "    else: \n",
      "        return ratSimTotal/simTotal"
     ],
     "language": "python",
     "metadata": {},
     "outputs": [],
     "prompt_number": 13
    },
    {
     "cell_type": "code",
     "collapsed": false,
     "input": [
      "# \u5c0d\u8a72user\u6c92\u8a55\u5206\u7684\u7269\u54c1\u505a\u63a8\u85a6 N\u70ba\u5217\u51fa\u7684item\u6578\n",
      "def recommend(itemScore, user, N=3, simMethods=cosSim):\n",
      "    #find unrated items \n",
      "    unratedItems = np.nonzero(itemScore[user,:] ==0)[0]\n",
      "    if len(unratedItems) == 0: \n",
      "        return 'you rated everything'\n",
      "    else:\n",
      "        itemScores = []\n",
      "        for item in unratedItems:\n",
      "            estimatedScore = userSimRec(itemScore, user, simMethods, item)\n",
      "            itemScores.append((item, estimatedScore))\n",
      "            recItem = sorted(itemScores, key=lambda x: x[1], reverse=True)[:N]\n",
      "        return recItem"
     ],
     "language": "python",
     "metadata": {},
     "outputs": [],
     "prompt_number": 14
    },
    {
     "cell_type": "code",
     "collapsed": false,
     "input": [
      "def loadItemScore():\n",
      "    tmp = [[4, 4, 0, 2, 2],\n",
      "           [4, 0, 2, 0, 3],\n",
      "           [4, 0, 0, 1, 1],\n",
      "           [1, 1, 1, 2, 0],\n",
      "           [2, 2, 4, 0, 0],\n",
      "           [5, 0, 5, 0, 2],\n",
      "           [1, 1, 1, 3, 0],\n",
      "           [0, 1, 3, 0, 1]]\n",
      "    itemScore = np.array(tmp,dtype=np.float)\n",
      "    return itemScore"
     ],
     "language": "python",
     "metadata": {},
     "outputs": [],
     "prompt_number": 15
    },
    {
     "cell_type": "code",
     "collapsed": false,
     "input": [
      "dataSet1 = loadItemScore()"
     ],
     "language": "python",
     "metadata": {},
     "outputs": [],
     "prompt_number": 16
    },
    {
     "cell_type": "code",
     "collapsed": false,
     "input": [
      "recommend(dataSet1, 7, N=3)"
     ],
     "language": "python",
     "metadata": {},
     "outputs": [
      {
       "metadata": {},
       "output_type": "pyout",
       "prompt_number": 17,
       "text": [
        "[(0, 2.4229790582187611), (3, 2.3743483336808979)]"
       ]
      }
     ],
     "prompt_number": 17
    },
    {
     "cell_type": "code",
     "collapsed": false,
     "input": [
      "def loadItemScore2(userN,itemN):\n",
      "    tmp2Darray = []\n",
      "    for user in range(userN):\n",
      "        tmpList = []\n",
      "        for num in range(itemN):\n",
      "            # \u66f4\u6539 no rating\u7684\u6bd4\u4f8b \u9810\u8a2d20%\u70ba0\n",
      "            if randint(1,5) <= 1:\n",
      "                tmpList.append(0)\n",
      "            else:\n",
      "                tmpList.append(randint(1,5))\n",
      "        tmp2Darray.append(tmpList)\n",
      "    itemScore = np.array(tmp2Darray,dtype=np.float)\n",
      "    return itemScore"
     ],
     "language": "python",
     "metadata": {},
     "outputs": [],
     "prompt_number": 18
    },
    {
     "cell_type": "code",
     "collapsed": false,
     "input": [
      "dataSet2 = loadItemScore2(8,100)"
     ],
     "language": "python",
     "metadata": {},
     "outputs": [],
     "prompt_number": 19
    },
    {
     "cell_type": "code",
     "collapsed": false,
     "input": [
      "recommend(dataSet2, 7, N=10)"
     ],
     "language": "python",
     "metadata": {},
     "outputs": [
      {
       "metadata": {},
       "output_type": "pyout",
       "prompt_number": 20,
       "text": [
        "[(92, 4.4707182015259566),\n",
        " (14, 3.6337550966338332),\n",
        " (54, 3.6108608257401626),\n",
        " (17, 3.4497028477019049),\n",
        " (80, 3.3539843221437207),\n",
        " (60, 3.2512537630166949),\n",
        " (48, 3.2325236929406151),\n",
        " (44, 3.1704787871902123),\n",
        " (15, 2.9739335793526624),\n",
        " (40, 2.9253206514087262)]"
       ]
      }
     ],
     "prompt_number": 20
    },
    {
     "cell_type": "code",
     "collapsed": false,
     "input": [
      "# load real dataSet\n",
      "# https://snap.stanford.edu/data/\n",
      "edges=[]\n",
      "nodes=[]\n",
      "with open ('/Users/wy/Desktop/DMfinalproject/facebook_combined.txt','r') as f:\n",
      "    lines = f.readlines()\n",
      "    for line in lines:\n",
      "        line = line.strip()   \n",
      "        line = line.split(' ')\n",
      "        edges.append((line[0],line[1]))\n",
      "        nodes.append(line[0])\n",
      "        nodes.append(line[1])\n",
      "nodes = set(nodes)"
     ],
     "language": "python",
     "metadata": {},
     "outputs": [],
     "prompt_number": 21
    },
    {
     "cell_type": "code",
     "collapsed": false,
     "input": [
      "G=nx.Graph()\n",
      "G.add_nodes_from(nodes)\n",
      "G.add_edges_from(edges)\n",
      "print(len(G.nodes()))\n",
      "print(len(G.edges()))"
     ],
     "language": "python",
     "metadata": {},
     "outputs": [
      {
       "output_type": "stream",
       "stream": "stdout",
       "text": [
        "4039\n",
        "88234"
       ]
      },
      {
       "output_type": "stream",
       "stream": "stdout",
       "text": [
        "\n"
       ]
      }
     ],
     "prompt_number": 22
    },
    {
     "cell_type": "code",
     "collapsed": false,
     "input": [
      "# \u5206\u7fa4\n",
      "partition = community.best_partition(G)"
     ],
     "language": "python",
     "metadata": {},
     "outputs": [],
     "prompt_number": 23
    },
    {
     "cell_type": "code",
     "collapsed": false,
     "input": [
      "clusters = {}\n",
      "for key, value in partition.iteritems():\n",
      "    if not clusters.has_key(value):\n",
      "        clusters[value] = [key]\n",
      "    else:\n",
      "        clusters[value].append(key)\n",
      "        \n",
      "subClustersList = []   \n",
      "for subKey in range(len(clusters.keys())):\n",
      "    subCluster = G.subgraph(clusters[subKey])\n",
      "    subClustersList.append(subCluster)"
     ],
     "language": "python",
     "metadata": {},
     "outputs": [],
     "prompt_number": 24
    },
    {
     "cell_type": "code",
     "collapsed": false,
     "input": [
      "# \u7a0d\u5fae\u770b\u4e00\u4e0b cluster \u5206\u914d\u7684 user\u6578\n",
      "for key, value in clusters.iteritems():\n",
      "    print(str(key)+':'+str(len(value)))"
     ],
     "language": "python",
     "metadata": {},
     "outputs": [
      {
       "output_type": "stream",
       "stream": "stdout",
       "text": [
        "0:548\n",
        "1:60\n",
        "2:514\n",
        "3:60\n",
        "4:206\n",
        "5:341\n",
        "6:310\n",
        "7:391\n",
        "8:423\n",
        "9:237\n",
        "10:549\n",
        "11:73\n",
        "12:19\n",
        "13:226\n",
        "14:38\n",
        "15:25\n",
        "16:19\n"
       ]
      }
     ],
     "prompt_number": 25
    },
    {
     "cell_type": "code",
     "collapsed": false,
     "input": [
      "fbDataSet = loadItemScore2(4039,100)"
     ],
     "language": "python",
     "metadata": {},
     "outputs": [],
     "prompt_number": 26
    },
    {
     "cell_type": "code",
     "collapsed": false,
     "input": [
      "# # \u5404\u81eacluster \u7b97\u51fa Similarity \u5b58\u5165 subSimilaritys\n",
      "# subSimilaritys = []   \n",
      "# for num in range(len(subClustersList)):\n",
      "#     subSimilaritys.append(simrank(subClustersList[num]))"
     ],
     "language": "python",
     "metadata": {},
     "outputs": []
    },
    {
     "cell_type": "code",
     "collapsed": false,
     "input": [
      "# recommend(fbDataSet, 7, N=10)"
     ],
     "language": "python",
     "metadata": {},
     "outputs": []
    }
   ],
   "metadata": {}
  }
 ]
}