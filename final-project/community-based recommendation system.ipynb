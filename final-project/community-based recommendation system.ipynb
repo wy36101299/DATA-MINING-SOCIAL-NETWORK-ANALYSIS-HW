{
 "cells": [
  {
   "cell_type": "code",
   "execution_count": 24,
   "metadata": {
    "collapsed": false
   },
   "outputs": [
    {
     "name": "stdout",
     "output_type": "stream",
     "text": [
      "Populating the interactive namespace from numpy and matplotlib\n"
     ]
    }
   ],
   "source": [
    "# 啟動互動式繪圖環境\n",
    "%pylab inline\n",
    "import matplotlib.pyplot as plt"
   ]
  },
  {
   "cell_type": "code",
   "execution_count": 25,
   "metadata": {
    "collapsed": true
   },
   "outputs": [],
   "source": [
    "# http://networkx.github.io/documentation/networkx-1.9.1/tutorial/index.html\n",
    "import networkx as nx\n",
    "import numpy as np\n",
    "import itertools\n",
    "# http://perso.crans.org/aynaud/communities/\n",
    "import community\n",
    "from random import randint"
   ]
  },
  {
   "cell_type": "code",
   "execution_count": 26,
   "metadata": {
    "collapsed": true
   },
   "outputs": [],
   "source": [
    "def draw(G):\n",
    "    pos=nx.spring_layout(G) # positions for all nodes\n",
    "    # nodes\n",
    "    nx.draw_networkx_nodes(G,pos,\n",
    "                           G.nodes(),\n",
    "                           node_color='#99DDF0',\n",
    "                           node_size=500,\n",
    "                       alpha=0.8)\n",
    "    # edges\n",
    "    nx.draw_networkx_edges(G,pos,\n",
    "                           G.edges(),\n",
    "                           width=2.0,alpha=0.5,edge_color='#EE7D33')\n",
    "    nx.draw_networkx_labels(G,pos,font_size=16,font_color='black')"
   ]
  },
  {
   "cell_type": "code",
   "execution_count": 27,
   "metadata": {
    "collapsed": false
   },
   "outputs": [
    {
     "name": "stdout",
     "output_type": "stream",
     "text": [
      "['1', '0', '3', '2', '5', '4', '7', '6']\n",
      "[('1', '0'), ('1', '2'), ('0', '2'), ('3', '2'), ('3', '4'), ('3', '7'), ('3', '6'), ('5', '4'), ('5', '7'), ('5', '6'), ('7', '6')]\n"
     ]
    }
   ],
   "source": [
    "G=nx.Graph()\n",
    "G.add_nodes_from(['0','1','2','3','4','5','6','7'])\n",
    "G.add_edges_from([('0','1'),('0','2'),('1','2'),('2','3'),('3','6'),('3','4'),('4','5'),('5','6'),('6','7'),('7','5'),('7','3')])\n",
    "print( G.nodes() )\n",
    "print( G.edges() )"
   ]
  },
  {
   "cell_type": "code",
   "execution_count": 28,
   "metadata": {
    "collapsed": false
   },
   "outputs": [
    {
     "data": {
      "image/png": "[encoded data removed]",
      "text/plain": [
       "<matplotlib.figure.Figure at 0x1072ad810>"
      ]
     },
     "metadata": {},
     "output_type": "display_data"
    }
   ],
   "source": [
    "draw(G)"
   ]
  },
  {
   "cell_type": "code",
   "execution_count": 29,
   "metadata": {
    "collapsed": false
   },
   "outputs": [
    {
     "name": "stdout",
     "output_type": "stream",
     "text": [
      "{'1': 0, '0': 0, '3': 1, '2': 0, '5': 1, '4': 1, '7': 1, '6': 1}\n"
     ]
    }
   ],
   "source": [
    "# 分群\n",
    "partition = community.best_partition(G)\n",
    "print(partition)"
   ]
  },
  {
   "cell_type": "code",
   "execution_count": 31,
   "metadata": {
    "collapsed": false
   },
   "outputs": [
    {
     "name": "stdout",
     "output_type": "stream",
     "text": [
      "1:0\n",
      "0:0\n",
      "3:2\n",
      "2:0\n",
      "5:2\n",
      "4:2\n",
      "7:2\n",
      "6:2\n"
     ]
    }
   ],
   "source": [
    "# Label Propagation community dection\n",
    "def findMaxNum(List):\n",
    "    a = {}\n",
    "    for tmp in List:\n",
    "        if a.has_key(tmp):\n",
    "            a[tmp]+=1\n",
    "        else:\n",
    "            a[tmp]=1\n",
    "    for key, value in a.iteritems():\n",
    "        if value == sorted(a.values(),reverse=True)[0]:\n",
    "            return key\n",
    "\n",
    "# 初始化 label\n",
    "for node in G.nodes():\n",
    "    G.node[node]['id']= int(node)\n",
    "\n",
    "# 分配最高的label\n",
    "for time in range(20):\n",
    "    for node in G.nodes():\n",
    "        tmp = []\n",
    "        for neighborNode in G.neighbors(node):\n",
    "            tmp.append(G.node[neighborNode]['id'])\n",
    "        label = findMaxNum(tmp)\n",
    "        G.node[node]['id'] = label\n",
    "        \n",
    "for node in G.nodes():\n",
    "    print(node+':'+str(G.node[node]['id']))"
   ]
  },
  {
   "cell_type": "code",
   "execution_count": 32,
   "metadata": {
    "collapsed": false
   },
   "outputs": [
    {
     "name": "stdout",
     "output_type": "stream",
     "text": [
      "{0: ['1', '0', '2'], 1: ['3', '5', '4', '7', '6']}\n",
      "[<networkx.classes.graph.Graph object at 0x1076cdb90>, <networkx.classes.graph.Graph object at 0x107101450>]\n"
     ]
    }
   ],
   "source": [
    "clusters = {}\n",
    "for key, value in partition.iteritems():\n",
    "    if not clusters.has_key(value):\n",
    "        clusters[value] = [key]\n",
    "    else:\n",
    "        clusters[value].append(key)\n",
    "print(clusters)  \n",
    "\n",
    "subClustersList = []   \n",
    "for subKey in range(len(clusters.keys())):\n",
    "    subCluster = G.subgraph(clusters[subKey])\n",
    "    subClustersList.append(subCluster)\n",
    "print(subClustersList)"
   ]
  },
  {
   "cell_type": "code",
   "execution_count": 33,
   "metadata": {
    "collapsed": true
   },
   "outputs": [],
   "source": [
    "# simrank\n",
    "def simrank(G, r=0.9, max_iter=100, eps=1e-4):\n",
    "    nodes = G.nodes()\n",
    "    nodes_i = {k: v for(k, v) in [(nodes[i], i) for i in range(0, len(nodes))]}\n",
    "    sim_prev = np.zeros(len(nodes))\n",
    "    sim = np.identity(len(nodes))\n",
    "    for i in range(max_iter):\n",
    "        if np.allclose(sim, sim_prev, atol=eps):\n",
    "            break\n",
    "        sim_prev = np.copy(sim)\n",
    "        for u, v in itertools.product(nodes, nodes):\n",
    "            if u is v:\n",
    "                continue\n",
    "            u_ns, v_ns = G.neighbors(u), G.neighbors(v)\n",
    "            s_uv = sum([sim_prev[nodes_i[u_n]][nodes_i[v_n]] for u_n, v_n in itertools.product(u_ns, v_ns)])\n",
    "            sim[nodes_i[u]][nodes_i[v]] = (r * s_uv) / (len(u_ns) * len(v_ns))\n",
    "    return sim"
   ]
  },
  {
   "cell_type": "code",
   "execution_count": 34,
   "metadata": {
    "collapsed": true
   },
   "outputs": [],
   "source": [
    "# Cosine Similarity \n",
    "def cosSim(a,b):\n",
    "    cos = float(np.inner(a,b))/(np.linalg.norm(a)*np.linalg.norm(b))\n",
    "    norCos = 0.5+0.5*cos\n",
    "    return norCos"
   ]
  },
  {
   "cell_type": "code",
   "execution_count": 35,
   "metadata": {
    "collapsed": false
   },
   "outputs": [
    {
     "data": {
      "image/png": "[encoded data removed]",
      "text/plain": [
       "<matplotlib.figure.Figure at 0x107697190>"
      ]
     },
     "metadata": {},
     "output_type": "display_data"
    }
   ],
   "source": [
    "draw(subClustersList[0])"
   ]
  },
  {
   "cell_type": "code",
   "execution_count": 36,
   "metadata": {
    "collapsed": false
   },
   "outputs": [
    {
     "data": {
      "image/png": "[encoded data removed]",
      "text/plain": [
       "<matplotlib.figure.Figure at 0x1077570d0>"
      ]
     },
     "metadata": {},
     "output_type": "display_data"
    }
   ],
   "source": [
    "draw(subClustersList[1])"
   ]
  },
  {
   "cell_type": "code",
   "execution_count": 37,
   "metadata": {
    "collapsed": false
   },
   "outputs": [
    {
     "name": "stdout",
     "output_type": "stream",
     "text": [
      "[array([[ 1.        ,  0.69212752,  0.69212752],\n",
      "       [ 0.69212752,  1.        ,  0.69212752],\n",
      "       [ 0.69212752,  0.69212752,  1.        ]]), array([[ 1.        ,  0.68858127,  0.45517566,  0.5311563 ,  0.5311563 ],\n",
      "       [ 0.68858127,  1.        ,  0.45517566,  0.5311563 ,  0.5311563 ],\n",
      "       [ 0.45517566,  0.45517566,  1.        ,  0.66588905,  0.66588905],\n",
      "       [ 0.5311563 ,  0.5311563 ,  0.66588905,  1.        ,  0.61126386],\n",
      "       [ 0.5311563 ,  0.5311563 ,  0.66588905,  0.61126386,  1.        ]])]\n"
     ]
    }
   ],
   "source": [
    "# 各自cluster 算出 Similarity 存入 subSimilaritys\n",
    "subSimilaritys = []   \n",
    "for num in range(len(subClustersList)):\n",
    "    subSimilaritys.append(simrank(subClustersList[num]))\n",
    "print(subSimilaritys)"
   ]
  },
  {
   "cell_type": "code",
   "execution_count": 38,
   "metadata": {
    "collapsed": true
   },
   "outputs": [],
   "source": [
    "# 對該物品算總Similarity  user Similarity(cosine) * clusterSimilarity \n",
    "# clusterSimilarity :   同cluster---user Similarity(simrank)\n",
    "#                     不同cluster---0.1\n",
    "def userSimRec(itemScore, user, simMethods, item ,alpha,beta):\n",
    "    # user number : shape(itemScore)[0] item number : shape(itemScore)[1]\n",
    "    n = np.shape(itemScore)[0]\n",
    "    simTotal = 0.0; ratSimTotal = 0.0\n",
    "    for cluster, clusterList in clusters.iteritems():\n",
    "        if str(user) in clusterList:\n",
    "            clusterUseris = cluster\n",
    "            userc = clusterList.index(str(user))\n",
    "#             print(str(user)+':'+str(clusterUseris))\n",
    "#             print('@@')\n",
    "            break\n",
    "    for u in range(n):\n",
    "        userItemRating = itemScore[u][item]\n",
    "        # pass norating item\n",
    "        if userItemRating == 0 or u == user:\n",
    "            pass\n",
    "        else:\n",
    "            # find same rating item\n",
    "            boolArray = np.logical_and(itemScore[user][:]> 0,itemScore[u][:] > 0)\n",
    "            boolArray[item] = False\n",
    "            if len( np.nonzero(boolArray)[0] ) == 0: \n",
    "                similarity = 0\n",
    "            else: \n",
    "                userSim = simMethods(itemScore[user][boolArray],itemScore[u][boolArray])\n",
    "#                 print(itemScore[user][boolArray])\n",
    "#                 print(itemScore[u][boolArray])\n",
    "                for cluster, clusterList in clusters.iteritems():\n",
    "                    if str(u) in clusterList:\n",
    "                        clusterUis = cluster\n",
    "#                         print(str(u)+':'+str(clusterUis))\n",
    "                        uc = clusterList.index(str(u))\n",
    "                if clusterUseris == clusterUis:\n",
    "                    clusterSim = subSimilaritys[clusterUseris][userc][uc]\n",
    "                else:\n",
    "                    clusterSim = 0.1\n",
    "#                 print(\"user:\"+str(u)+\"-userItemRating:\"+str(userItemRating)+\"-item:\"+str(item)+\"-\"+\"clusterSim:\"+str(clusterSim)+\"-\"+\"userSim:\"+str(userSim))\n",
    "            simTotal += alpha*userSim + beta*clusterSim\n",
    "            ratSimTotal += (alpha*userSim + beta*clusterSim)*userItemRating\n",
    "    if simTotal == 0: \n",
    "        return 0\n",
    "    else: \n",
    "        return ratSimTotal/simTotal"
   ]
  },
  {
   "cell_type": "code",
   "execution_count": 39,
   "metadata": {
    "collapsed": true
   },
   "outputs": [],
   "source": [
    "# 對該user沒評分的物品做推薦 N為列出的item數\n",
    "def recommend(itemScore, user, N=3, simMethods=cosSim,alpha=1,beta=1):\n",
    "    #find unrated items \n",
    "    unratedItems = np.nonzero(itemScore[user,:] ==0)[0]\n",
    "    if len(unratedItems) == 0: \n",
    "        return 'you rated everything'\n",
    "    else:\n",
    "        itemScores = []\n",
    "        for item in unratedItems:\n",
    "            estimatedScore = userSimRec(itemScore, user, simMethods, item,alpha,beta)\n",
    "#             print(\"item:\"+str(item)+\"-\"+\"estimatedScore:\"+str(estimatedScore))\n",
    "            itemScores.append((item, estimatedScore))\n",
    "            recItem = sorted(itemScores, key=lambda x: x[1], reverse=True)[:N]\n",
    "        return recItem"
   ]
  },
  {
   "cell_type": "code",
   "execution_count": 40,
   "metadata": {
    "collapsed": true
   },
   "outputs": [],
   "source": [
    "def loadItemScore():\n",
    "    tmp = [[4, 4, 0, 2, 2],\n",
    "           [4, 0, 2, 0, 3],\n",
    "           [4, 0, 0, 1, 1],\n",
    "           [1, 1, 1, 2, 0],\n",
    "           [2, 2, 4, 0, 0],\n",
    "           [5, 0, 5, 0, 2],\n",
    "           [1, 1, 1, 3, 0],\n",
    "           [0, 1, 3, 0, 1]]\n",
    "    itemScore = np.array(tmp,dtype=np.float)\n",
    "    return itemScore"
   ]
  },
  {
   "cell_type": "code",
   "execution_count": 41,
   "metadata": {
    "collapsed": true
   },
   "outputs": [],
   "source": [
    "dataSet1 = loadItemScore()"
   ]
  },
  {
   "cell_type": "code",
   "execution_count": 42,
   "metadata": {
    "collapsed": false
   },
   "outputs": [
    {
     "data": {
      "text/plain": [
       "[(0, 2.8398478047076852), (3, 2.0879794330334875)]"
      ]
     },
     "execution_count": 42,
     "metadata": {},
     "output_type": "execute_result"
    }
   ],
   "source": [
    "recommend(dataSet1, 7, N=3)"
   ]
  },
  {
   "cell_type": "code",
   "execution_count": 43,
   "metadata": {
    "collapsed": true
   },
   "outputs": [],
   "source": [
    "def loadItemScore2(userN,itemN):\n",
    "    tmp2Darray = []\n",
    "    for user in range(userN):\n",
    "        tmpList = []\n",
    "        for num in range(itemN):\n",
    "            # 更改 no rating的比例 預設20%為0\n",
    "            if randint(1,5) <= 1:\n",
    "                tmpList.append(0)\n",
    "            else:\n",
    "                tmpList.append(randint(1,5))\n",
    "        tmp2Darray.append(tmpList)\n",
    "    itemScore = np.array(tmp2Darray,dtype=np.float)\n",
    "    return itemScore"
   ]
  },
  {
   "cell_type": "code",
   "execution_count": 48,
   "metadata": {
    "collapsed": true
   },
   "outputs": [],
   "source": [
    "dataSet2 = loadItemScore2(8,1000)"
   ]
  },
  {
   "cell_type": "code",
   "execution_count": 49,
   "metadata": {
    "collapsed": false
   },
   "outputs": [
    {
     "data": {
      "text/plain": [
       "[(92, 4.6660271368412216),\n",
       " (729, 4.3995425075476815),\n",
       " (675, 4.3331620059370675),\n",
       " (879, 4.3331608013833058),\n",
       " (896, 4.1999341916093185),\n",
       " (731, 4.1990684601695083),\n",
       " (927, 4.1988958805229633),\n",
       " (135, 4.1667188891283846),\n",
       " (698, 4.0029111240797484),\n",
       " (641, 4.0011513400970076)]"
      ]
     },
     "execution_count": 49,
     "metadata": {},
     "output_type": "execute_result"
    }
   ],
   "source": [
    "recommend(dataSet2, 1, N=10 ,alpha=1,beta=0)"
   ]
  },
  {
   "cell_type": "code",
   "execution_count": 50,
   "metadata": {
    "collapsed": false
   },
   "outputs": [
    {
     "data": {
      "text/plain": [
       "[(92, 4.8879084017596002),\n",
       " (729, 4.7253068040078485),\n",
       " (57, 4.6637252052788014),\n",
       " (731, 4.6337424053437992),\n",
       " (927, 4.6337424053437992),\n",
       " (905, 4.5968260225407489),\n",
       " (903, 4.4960325281759372),\n",
       " (856, 4.4960325281759363),\n",
       " (909, 4.4950308026446733),\n",
       " (280, 4.4692862831622273)]"
      ]
     },
     "execution_count": 50,
     "metadata": {},
     "output_type": "execute_result"
    }
   ],
   "source": [
    "recommend(dataSet2, 1, N=10 ,alpha=0,beta=1)"
   ]
  },
  {
   "cell_type": "code",
   "execution_count": 51,
   "metadata": {
    "collapsed": false
   },
   "outputs": [
    {
     "data": {
      "text/plain": [
       "[(92, 4.7207018334390893),\n",
       " (729, 4.4626098714366611),\n",
       " (731, 4.2832422692615841),\n",
       " (927, 4.2830813616046424),\n",
       " (675, 4.278687116080869),\n",
       " (135, 4.2212231281329293),\n",
       " (879, 4.2145760753431398),\n",
       " (57, 4.1622740576760568),\n",
       " (905, 4.1270294601280879),\n",
       " (111, 4.1119881976206685)]"
      ]
     },
     "execution_count": 51,
     "metadata": {},
     "output_type": "execute_result"
    }
   ],
   "source": [
    "recommend(dataSet2, 1, N=10 ,alpha=0.5,beta=0.5)"
   ]
  },
  {
   "cell_type": "code",
   "execution_count": 55,
   "metadata": {
    "collapsed": false
   },
   "outputs": [],
   "source": [
    "# load real dataSet\n",
    "# https://snap.stanford.edu/data/egonets-Facebook.html\n",
    "edges=[]\n",
    "nodes=[]\n",
    "with open ('/Users/wy/Desktop/facebook_combined.txt','r') as f:\n",
    "    lines = f.readlines()\n",
    "    for line in lines:\n",
    "        line = line.strip()   \n",
    "        line = line.split(' ')\n",
    "        edges.append((line[0],line[1]))\n",
    "        nodes.append(line[0])\n",
    "        nodes.append(line[1])\n",
    "nodes = set(nodes)"
   ]
  },
  {
   "cell_type": "code",
   "execution_count": 56,
   "metadata": {
    "collapsed": false
   },
   "outputs": [
    {
     "name": "stdout",
     "output_type": "stream",
     "text": [
      "4039\n",
      "88234\n"
     ]
    }
   ],
   "source": [
    "G=nx.Graph()\n",
    "G.add_nodes_from(nodes)\n",
    "G.add_edges_from(edges)\n",
    "print(len(G.nodes()))\n",
    "print(len(G.edges()))"
   ]
  },
  {
   "cell_type": "code",
   "execution_count": 57,
   "metadata": {
    "collapsed": true
   },
   "outputs": [],
   "source": [
    "# 分群\n",
    "partition = community.best_partition(G)"
   ]
  },
  {
   "cell_type": "code",
   "execution_count": 58,
   "metadata": {
    "collapsed": true
   },
   "outputs": [],
   "source": [
    "clusters = {}\n",
    "for key, value in partition.iteritems():\n",
    "    if not clusters.has_key(value):\n",
    "        clusters[value] = [key]\n",
    "    else:\n",
    "        clusters[value].append(key)\n",
    "        \n",
    "subClustersList = []   \n",
    "for subKey in range(len(clusters.keys())):\n",
    "    subCluster = G.subgraph(clusters[subKey])\n",
    "    subClustersList.append(subCluster)"
   ]
  },
  {
   "cell_type": "code",
   "execution_count": 59,
   "metadata": {
    "collapsed": false
   },
   "outputs": [
    {
     "name": "stdout",
     "output_type": "stream",
     "text": [
      "0:548\n",
      "1:60\n",
      "2:514\n",
      "3:60\n",
      "4:206\n",
      "5:341\n",
      "6:310\n",
      "7:391\n",
      "8:423\n",
      "9:237\n",
      "10:549\n",
      "11:73\n",
      "12:19\n",
      "13:226\n",
      "14:38\n",
      "15:25\n",
      "16:19\n"
     ]
    }
   ],
   "source": [
    "# 稍微看一下 cluster 分配的 user數\n",
    "for key, value in clusters.iteritems():\n",
    "    print(str(key)+':'+str(len(value)))"
   ]
  },
  {
   "cell_type": "code",
   "execution_count": 60,
   "metadata": {
    "collapsed": true
   },
   "outputs": [],
   "source": [
    "fbDataSet2 = loadItemScore2(4039,1000)"
   ]
  },
  {
   "cell_type": "code",
   "execution_count": 61,
   "metadata": {
    "collapsed": true
   },
   "outputs": [],
   "source": [
    "import datetime"
   ]
  },
  {
   "cell_type": "code",
   "execution_count": 62,
   "metadata": {
    "collapsed": true
   },
   "outputs": [],
   "source": [
    "# there will run 14hr\n",
    "\n",
    "# st = datetime.datetime.now()\n",
    "# # 各自cluster 算出 Similarity 存入 subSimilaritys\n",
    "# subSimilaritys = []   \n",
    "# for num in range(len(subClustersList)):\n",
    "#     subSimilaritys.append(simrank(subClustersList[num]))\n",
    "# end = datetime.datetime.now()\n",
    "\n",
    "# runtime = end - st\n",
    "# print(runtime)"
   ]
  },
  {
   "cell_type": "code",
   "execution_count": 63,
   "metadata": {
    "collapsed": true
   },
   "outputs": [],
   "source": [
    "#recommend(fbDataSet2, 1, N=10 ,alpha=1,beta=0)"
   ]
  },
  {
   "cell_type": "code",
   "execution_count": 64,
   "metadata": {
    "collapsed": true
   },
   "outputs": [],
   "source": [
    "#recommend(fbDataSet2, 1, N=10 ,alpha=0,beta=1)"
   ]
  },
  {
   "cell_type": "code",
   "execution_count": 65,
   "metadata": {
    "collapsed": true
   },
   "outputs": [],
   "source": [
    "#recommend(fbDataSet2, 1, N=10 ,alpha=0.5,beta=0.5)"
   ]
  },
  {
   "cell_type": "code",
   "execution_count": null,
   "metadata": {
    "collapsed": true
   },
   "outputs": [],
   "source": []
  }
 ],
 "metadata": {
  "kernelspec": {
   "display_name": "Python 2",
   "language": "python",
   "name": "python2"
  },
  "language_info": {
   "codemirror_mode": {
    "name": "ipython",
    "version": 2
   },
   "file_extension": ".py",
   "mimetype": "text/x-python",
   "name": "python",
   "nbconvert_exporter": "python",
   "pygments_lexer": "ipython2",
   "version": "2.7.9"
  }
 },
 "nbformat": 4,
 "nbformat_minor": 0
}
